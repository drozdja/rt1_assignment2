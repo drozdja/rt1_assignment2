{
 "cells": [
  {
   "cell_type": "markdown",
   "id": "f2c7f460",
   "metadata": {},
   "source": [
    "# Node A"
   ]
  },
  {
   "cell_type": "markdown",
   "id": "bc7bad52",
   "metadata": {},
   "source": [
    "Import"
   ]
  },
  {
   "cell_type": "code",
   "execution_count": 8,
   "id": "e9a20283",
   "metadata": {},
   "outputs": [],
   "source": [
    "import rospy\n",
    "from actionlib import SimpleActionClient\n",
    "from assignment_2_2022.msg import PlanningAction, PlanningGoal, Message1\n",
    "from assignment_2_2022.srv import *\n",
    "from nav_msgs.msg import Odometry\n",
    "from sensor_msgs.msg import LaserScan\n",
    "from geometry_msgs.msg import Twist, Pose\n",
    "from jupyros.ros1 import ros3d\n",
    "from ipywidgets import widgets, Layout, HBox\n",
    "from IPython.display import display\n",
    "from matplotlib import pyplot as plt\n",
    "import threading\n",
    "rospy.init_node('node_a', anonymous=True)"
   ]
  },
  {
   "cell_type": "markdown",
   "id": "b7a3850a",
   "metadata": {},
   "source": [
    "Define widgets"
   ]
  },
  {
   "cell_type": "code",
   "execution_count": 2,
   "id": "60554353",
   "metadata": {},
   "outputs": [],
   "source": [
    "x_new = widgets.FloatText(value=0.0, description='x:')\n",
    "y_new = widgets.FloatText(value=0.0, description='y:')\n",
    "set_goal = widgets.Button(description='Set goal')\n",
    "cancel_goal = widgets.Button(description='Cancel goal')\n",
    "robot_position = widgets.Text(description='Current position:')\n",
    "target_position = widgets.Text(description='Target position:')\n",
    "distance_obstacle = widgets.Text(description='Distance to obstacle:')"
   ]
  },
  {
   "cell_type": "markdown",
   "id": "bccaa86c",
   "metadata": {},
   "source": [
    "Buttons for setting and cancelling the goal"
   ]
  },
  {
   "cell_type": "code",
   "execution_count": 3,
   "id": "26d6425e",
   "metadata": {},
   "outputs": [],
   "source": [
    "def set_goal_clicked(b):\n",
    "    target = PlanningGoal()\n",
    "    target.target_pose.pose.position.x = x_new.value\n",
    "    target.target_pose.pose.position.y = y_new.value\n",
    "    ac.send_goal(target)\n",
    "    rospy.loginfo(\"You set new goal\")\n",
    "\n",
    "def cancel_goal_clicked(b): \n",
    "    ac.cancelGoal()\n",
    "    rospy.loginfo(\"Goal cancelled\")\n",
    "    \n",
    "set_goal.on_click(set_goal_clicked)\n",
    "cancel_goal.on_click(cancel_goal_clicked)\n"
   ]
  },
  {
   "cell_type": "markdown",
   "id": "b1721df4",
   "metadata": {},
   "source": [
    "Initialization of ROS communication"
   ]
  },
  {
   "cell_type": "code",
   "execution_count": 4,
   "id": "45c87264",
   "metadata": {},
   "outputs": [],
   "source": [
    "ac = SimpleActionClient('/reaching_goal', PlanningAction)\n",
    "ac.wait_for_server()\n",
    "client = rospy.ServiceProxy('/goal_info', Service1)"
   ]
  },
  {
   "cell_type": "markdown",
   "id": "2e5794c9",
   "metadata": {},
   "source": [
    "Cancel goal service"
   ]
  },
  {
   "cell_type": "code",
   "execution_count": 5,
   "id": "dcd6bf99",
   "metadata": {},
   "outputs": [],
   "source": [
    "def cancel_goal_service():\n",
    "    goal = Service1Request()\n",
    "    goal.goal_count = 1\n",
    "    client.call(goal)\n",
    "    \n",
    "cancel_goal.on_click(cancel_goal_service())"
   ]
  },
  {
   "cell_type": "markdown",
   "id": "9cfa3a17",
   "metadata": {},
   "source": [
    "Odometry"
   ]
  },
  {
   "cell_type": "code",
   "execution_count": 6,
   "id": "b0751265",
   "metadata": {},
   "outputs": [],
   "source": [
    "def odom_callback(data):\n",
    "    global robot_x, robot_y, robot_vel_x, robot_vel_y\n",
    "    robot_x = data.pose.pose.position.x\n",
    "    robot_y = data.pose.pose.position.y\n",
    "    robot_vel_x = data.twist.twist.linear.x\n",
    "    robot_vel_y = data.twist.twist.linear.y\n",
    "    robot_position.value = f'x: {robot_x}, y: {robot_y}'"
   ]
  },
  {
   "cell_type": "markdown",
   "id": "b87e0c8e",
   "metadata": {},
   "source": [
    "Subscribers"
   ]
  },
  {
   "cell_type": "code",
   "execution_count": 9,
   "id": "a5f19924",
   "metadata": {},
   "outputs": [
    {
     "data": {
      "text/plain": [
       "<rospy.topics.Subscriber at 0x7f890c7831f0>"
      ]
     },
     "execution_count": 9,
     "metadata": {},
     "output_type": "execute_result"
    }
   ],
   "source": [
    "rospy.Subscriber(\"/odom\", Odometry, odom_callback)"
   ]
  },
  {
   "cell_type": "markdown",
   "id": "7c418cf8",
   "metadata": {},
   "source": [
    "Publishers"
   ]
  },
  {
   "cell_type": "code",
   "execution_count": 10,
   "id": "1af4e0e8",
   "metadata": {},
   "outputs": [],
   "source": [
    "def publish_robot_data():\n",
    "    pub = rospy.Publisher('robot_data', Message1, queue_size=10)\n",
    "    rate = rospy.Rate(10) # 10 Hz\n",
    "    while not rospy.is_shutdown():\n",
    "        msg = Message1()\n",
    "        msg.x = robot_x\n",
    "        msg.y = robot_y\n",
    "        msg.vel_x = robot_vel_x\n",
    "        msg.vel_y = robot_vel_y\n",
    "        pub.publish(msg)\n",
    "        rate.sleep()"
   ]
  },
  {
   "cell_type": "markdown",
   "id": "26f80dbc",
   "metadata": {},
   "source": [
    "Display widgets"
   ]
  },
  {
   "cell_type": "code",
   "execution_count": 11,
   "id": "b36867cb",
   "metadata": {},
   "outputs": [
    {
     "data": {
      "application/vnd.jupyter.widget-view+json": {
       "model_id": "21d9db41ff2d4dec81ee73627d8c37c1",
       "version_major": 2,
       "version_minor": 0
      },
      "text/plain": [
       "HBox(children=(FloatText(value=0.0, description='x:'), FloatText(value=0.0, description='y:'), Button(descript…"
      ]
     },
     "metadata": {},
     "output_type": "display_data"
    },
    {
     "data": {
      "application/vnd.jupyter.widget-view+json": {
       "model_id": "dcb4cb1fb44a4ca798de6dfc55254b7f",
       "version_major": 2,
       "version_minor": 0
      },
      "text/plain": [
       "HBox(children=(Text(value='', description='Robot position:'), Text(value='', description='Target position:'), …"
      ]
     },
     "metadata": {},
     "output_type": "display_data"
    },
    {
     "ename": "AttributeError",
     "evalue": "'SimpleActionClient' object has no attribute 'sendGoal'",
     "output_type": "error",
     "traceback": [
      "\u001b[0;31m---------------------------------------------------------------------------\u001b[0m",
      "\u001b[0;31mAttributeError\u001b[0m                            Traceback (most recent call last)",
      "Cell \u001b[0;32mIn[3], line 5\u001b[0m, in \u001b[0;36mset_goal_clicked\u001b[0;34m(b)\u001b[0m\n\u001b[1;32m      3\u001b[0m target\u001b[38;5;241m.\u001b[39mtarget_pose\u001b[38;5;241m.\u001b[39mpose\u001b[38;5;241m.\u001b[39mposition\u001b[38;5;241m.\u001b[39mx \u001b[38;5;241m=\u001b[39m x_new\u001b[38;5;241m.\u001b[39mvalue\n\u001b[1;32m      4\u001b[0m target\u001b[38;5;241m.\u001b[39mtarget_pose\u001b[38;5;241m.\u001b[39mpose\u001b[38;5;241m.\u001b[39mposition\u001b[38;5;241m.\u001b[39my \u001b[38;5;241m=\u001b[39m y_new\u001b[38;5;241m.\u001b[39mvalue\n\u001b[0;32m----> 5\u001b[0m \u001b[43mac\u001b[49m\u001b[38;5;241;43m.\u001b[39;49m\u001b[43msendGoal\u001b[49m(target)\n\u001b[1;32m      6\u001b[0m rospy\u001b[38;5;241m.\u001b[39mloginfo(\u001b[38;5;124m\"\u001b[39m\u001b[38;5;124mYou set new goal\u001b[39m\u001b[38;5;124m\"\u001b[39m)\n",
      "\u001b[0;31mAttributeError\u001b[0m: 'SimpleActionClient' object has no attribute 'sendGoal'"
     ]
    }
   ],
   "source": [
    "display(HBox([x_new, y_new, set_goal, cancel_goal]))\n",
    "display(HBox([robot_position, target_position, distance_obstacle]))"
   ]
  },
  {
   "cell_type": "markdown",
   "id": "a62f8087",
   "metadata": {},
   "source": [
    "Thread to publish robot data"
   ]
  },
  {
   "cell_type": "code",
   "execution_count": null,
   "id": "e1973c66",
   "metadata": {},
   "outputs": [],
   "source": [
    "threading.Thread(target=publish_robot_data).start()"
   ]
  },
  {
   "cell_type": "markdown",
   "id": "b017db71",
   "metadata": {},
   "source": [
    "Plot position"
   ]
  },
  {
   "cell_type": "code",
   "execution_count": null,
   "id": "503ff701",
   "metadata": {},
   "outputs": [],
   "source": [
    "def plot_positions():\n",
    "    fig, ax = plt.subplots()\n",
    "    ax.plot([robot_x, x_new.value], [robot_y, y_new.value], 'ro-')\n",
    "    ax.set_xlabel('x')\n",
    "    ax.set_ylabel('y')\n",
    "    ax.set_title('Positions of Robot and Target')\n",
    "    plt.show()\n",
    "\n",
    "plot_positions_button = widgets.Button(description='Plot positions')\n",
    "plot_positions_button.on_click(plot_positions())\n",
    "display(plot_positions_button)\n"
   ]
  },
  {
   "cell_type": "code",
   "execution_count": null,
   "id": "a4e155e0",
   "metadata": {},
   "outputs": [],
   "source": []
  }
 ],
 "metadata": {
  "kernelspec": {
   "display_name": "plz_work",
   "language": "python",
   "name": "plz_work"
  },
  "language_info": {
   "codemirror_mode": {
    "name": "ipython",
    "version": 3
   },
   "file_extension": ".py",
   "mimetype": "text/x-python",
   "name": "python",
   "nbconvert_exporter": "python",
   "pygments_lexer": "ipython3",
   "version": "3.9.16"
  }
 },
 "nbformat": 4,
 "nbformat_minor": 5
}
