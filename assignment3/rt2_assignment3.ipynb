{
 "cells": [
  {
   "cell_type": "markdown",
   "id": "d932bff7",
   "metadata": {},
   "source": [
    "# Research Track 2 - Assignment 3\n",
    "##### Jan Drozd (s5646665)\n"
   ]
  },
  {
   "cell_type": "markdown",
   "id": "89755bca",
   "metadata": {},
   "source": [
    "The objective of this assignment is to propose and test a hypothesis concering the perfrmance of two solutions to the problem of Research Track 1 - Assignment 1"
   ]
  },
  {
   "cell_type": "markdown",
   "id": "efa7a829",
   "metadata": {},
   "source": [
    "## Hypotheses:\n",
    "\n",
    "### Null Hypothesis: \n",
    "There is no significant difference between the performances of the [proposed solution](https://github.com/drozdja/ResearchTrack---Assignment1.git) and the [alternative solution](https://github.com/amanarora9848/unige-rt1-assignment1.git) when tokens are randomly placed in the environment.\n",
    "\n",
    "### Alternative Hypothesis:\n",
    "There is a significant difference between the performances of the [proposed solution](https://github.com/drozdja/ResearchTrack---Assignment1.git) and the [alternative solution](https://github.com/amanarora9848/unige-rt1-assignment1.git) when tokens are randomly placed in the environment.\n"
   ]
  },
  {
   "cell_type": "markdown",
   "id": "dfc37183",
   "metadata": {},
   "source": [
    "## Description and motivation of the experimental setup\n",
    "\n",
    "### Type of Experiments:\n",
    " - Compare performances with robot starting from the same postion and with the obstacles in the same places in the environment.\n",
    " - Compare performances with robot starting from the same postion, but random placement of obstacles in the environment."
   ]
  },
  {
   "cell_type": "markdown",
   "id": "e04ed160",
   "metadata": {},
   "source": [
    "### Number of Repetitions:\n",
    " - To ensure the statistical validity of our results, each experiment will be repeated at least 100 times to satisfy the Central Limit Theorem, which states that the distribution of the average of many observations drawn from a population will be normally distributed.\n",
    " \n",
    "#### Statistical Approach:\n",
    " - Collecting the average time of execution\n",
    " - Computeing average and standard deviation of both solutions over the 100 runs\n",
    " - Peforming a two-sample t-test to compare the means betwwe the solutions\n",
    " \n",
    "If the p-value is less than 0.05, we reject the null hypothesis and conclude that there is a significant difference between the two implementations. If not, we fail to reject the null hypothesis, concluding that there's no significant difference"
   ]
  },
  {
   "cell_type": "markdown",
   "id": "82ee81cc",
   "metadata": {},
   "source": [
    "## Experiment"
   ]
  },
  {
   "cell_type": "code",
   "execution_count": 1,
   "id": "88ad1c59",
   "metadata": {},
   "outputs": [],
   "source": [
    "import os\n",
    "import time\n",
    "import numpy as np\n",
    "from scipy import stats\n",
    "import subprocess\n",
    "import matplotlib.pyplot as plt\n",
    "\n",
    "avg_time_1 = []\n",
    "std_time_1 = []\n",
    "avg_time_2 = []\n",
    "std_time_2 = []\n"
   ]
  },
  {
   "cell_type": "code",
   "execution_count": 2,
   "id": "0cb1b880",
   "metadata": {},
   "outputs": [
    {
     "name": "stdout",
     "output_type": "stream",
     "text": [
      "fatal: destination path 'ResearchTrack---Assignment1' already exists and is not an empty directory.\n",
      "fatal: destination path 'unige-rt1-assignment1' already exists and is not an empty directory.\n"
     ]
    }
   ],
   "source": [
    "# Clone repositories with both algorithms to compare\n",
    "!git clone https://github.com/drozdja/ResearchTrack---Assignment1.git\n",
    "!git clone https://github.com/amanarora9848/unige-rt1-assignment1.git"
   ]
  },
  {
   "cell_type": "markdown",
   "id": "3a3612e4",
   "metadata": {},
   "source": [
    "Evaluation of the performance based on time of execution"
   ]
  },
  {
   "cell_type": "code",
   "execution_count": 3,
   "id": "16bd35c6",
   "metadata": {},
   "outputs": [],
   "source": [
    "def evaluate(directory):\n",
    "    start_time = time.time()\n",
    "    result = subprocess.run(['python2', directory+'/run.py', directory+'/assignment.py'], capture_output=True, text=True)\n",
    "    end_time = time.time()\n",
    "    \n",
    "    # calculate time of execution\n",
    "    time_taken = end_time - start_time\n",
    "\n",
    "    return time_taken\n"
   ]
  },
  {
   "cell_type": "markdown",
   "id": "cb748c25",
   "metadata": {},
   "source": [
    "Running experiments"
   ]
  },
  {
   "cell_type": "code",
   "execution_count": 4,
   "id": "9de47f2e",
   "metadata": {},
   "outputs": [],
   "source": [
    "num_iterations = 100\n",
    "measured_solution1 = [evaluate('ResearchTrack---Assignment1') for _ in range(num_iterations)]\n",
    "measured_solution2 = [evaluate('unige-rt1-assignment1') for _ in range(num_iterations)]\n"
   ]
  },
  {
   "cell_type": "markdown",
   "id": "aa6371c9",
   "metadata": {},
   "source": [
    "Calculating the statistical data"
   ]
  },
  {
   "cell_type": "code",
   "execution_count": 5,
   "id": "52b56639",
   "metadata": {},
   "outputs": [
    {
     "name": "stdout",
     "output_type": "stream",
     "text": [
      "First implementation: avg_time = 0.014316620826721192, std_time = 0.0050426710652231865\n",
      "Second implementation: avg_time = 0.014373397827148438, std_time = 0.006497791098266717\n"
     ]
    }
   ],
   "source": [
    "avg_time_1 = (np.mean([time for time in measured_solution1]))\n",
    "std_time_1 = (np.std([time for time in measured_solution1]))\n",
    "avg_time_2 = (np.mean([time for time in measured_solution2]))\n",
    "std_time_2 = (np.std([time for time in measured_solution2]))\n",
    "\n",
    "print(f'First implementation: avg_time = {avg_time_1}, std_time = {std_time_1}')\n",
    "print(f'Second implementation: avg_time = {avg_time_2}, std_time = {std_time_2}')\n"
   ]
  },
  {
   "cell_type": "markdown",
   "id": "175327d8",
   "metadata": {},
   "source": [
    "Plot"
   ]
  },
  {
   "cell_type": "code",
   "execution_count": 6,
   "id": "5e937717",
   "metadata": {},
   "outputs": [
    {
     "data": {
      "text/plain": [
       "Text(0.5, 1.0, 'Comparison of Execution Time')"
      ]
     },
     "execution_count": 6,
     "metadata": {},
     "output_type": "execute_result"
    },
    {
     "data": {
      "image/png": "[encoded data removed]",
      "text/plain": [
       "<Figure size 640x480 with 1 Axes>"
      ]
     },
     "metadata": {},
     "output_type": "display_data"
    }
   ],
   "source": [
    "mean_values = [avg_time_1, avg_time_2]\n",
    "std_dev = [std_time_1, std_time_2]\n",
    "\n",
    "fig, ax = plt.subplots()\n",
    "\n",
    "solutions = [\"First implementation\", \"Second implementation\"]\n",
    "\n",
    "ax.bar(solutions, mean_values, yerr=std_dev, align='center', alpha=0.5, ecolor='black', capsize=10)\n",
    "ax.set_ylabel('Execution Time')\n",
    "ax.set_title('Comparison of Execution Time')"
   ]
  },
  {
   "cell_type": "markdown",
   "id": "573b7466",
   "metadata": {},
   "source": [
    "p-value"
   ]
  },
  {
   "cell_type": "code",
   "execution_count": 7,
   "id": "1612a408",
   "metadata": {},
   "outputs": [
    {
     "name": "stdout",
     "output_type": "stream",
     "text": [
      "t-statistic = -0.06868417993222127, p-value = 0.9453103239874228\n"
     ]
    }
   ],
   "source": [
    "t_statistic, p_value = stats.ttest_ind([time for time in measured_solution1], [time for time in measured_solution2])\n",
    "print(f't-statistic = {t_statistic}, p-value = {p_value}')\n"
   ]
  },
  {
   "cell_type": "markdown",
   "id": "2d548963",
   "metadata": {},
   "source": [
    "Repeating with random placement of the obstacles"
   ]
  },
  {
   "cell_type": "code",
   "execution_count": 8,
   "id": "ef92975f",
   "metadata": {},
   "outputs": [],
   "source": [
    "num_iterations = 100\n",
    "measured_solution1_rand = [evaluate('ResearchTrack---Assignment1') for _ in range(num_iterations)]\n",
    "measured_solution2_rand = [evaluate('unige-rt1-assignment1') for _ in range(num_iterations)]"
   ]
  },
  {
   "cell_type": "code",
   "execution_count": 9,
   "id": "048f0338",
   "metadata": {},
   "outputs": [
    {
     "name": "stdout",
     "output_type": "stream",
     "text": [
      "First implementation: avg_time = 0.013304643630981446, std_time = 0.0015589129569906859\n",
      "Second implementation: avg_time = 0.012692081928253173, std_time = 0.0013005638630846246\n"
     ]
    }
   ],
   "source": [
    "avg_time_1_rand = (np.mean([time for time in measured_solution1_rand]))\n",
    "std_time_1_rand = (np.std([time for time in measured_solution1_rand]))\n",
    "avg_time_2_rand = (np.mean([time for time in measured_solution2_rand]))\n",
    "std_time_2_rand = (np.std([time for time in measured_solution2_rand]))\n",
    "\n",
    "print(f'First implementation: avg_time = {avg_time_1_rand}, std_time = {std_time_1_rand}')\n",
    "print(f'Second implementation: avg_time = {avg_time_2_rand}, std_time = {std_time_2_rand}')"
   ]
  },
  {
   "cell_type": "code",
   "execution_count": 10,
   "id": "88f3e2fd",
   "metadata": {},
   "outputs": [
    {
     "data": {
      "text/plain": [
       "Text(0.5, 1.0, 'Comparison of Execution Time')"
      ]
     },
     "execution_count": 10,
     "metadata": {},
     "output_type": "execute_result"
    },
    {
     "data": {
      "image/png": "[encoded data removed]",
      "text/plain": [
       "<Figure size 640x480 with 1 Axes>"
      ]
     },
     "metadata": {},
     "output_type": "display_data"
    }
   ],
   "source": [
    "mean_values_rand = [avg_time_1_rand, avg_time_2_rand]\n",
    "std_dev_rand = [std_time_1_rand, std_time_2_rand]\n",
    "\n",
    "fig1, ax1 = plt.subplots()\n",
    "\n",
    "solutions_rand = [\"First implementation\", \"Second implementation\"]\n",
    "\n",
    "ax1.bar(solutions_rand, mean_values_rand, yerr=std_dev_rand, align='center', alpha=0.5, ecolor='black', capsize=10)\n",
    "ax1.set_ylabel('Execution Time')\n",
    "ax1.set_title('Comparison of Execution Time')"
   ]
  },
  {
   "cell_type": "code",
   "execution_count": 11,
   "id": "0c6c8da5",
   "metadata": {},
   "outputs": [
    {
     "name": "stdout",
     "output_type": "stream",
     "text": [
      "t-statistic = 3.0021370585246614, p-value = 0.0030262541070656093\n"
     ]
    }
   ],
   "source": [
    "t_statistic_rand, p_value_rand = stats.ttest_ind([time for time in measured_solution1_rand], [time for time in measured_solution2_rand])\n",
    "print(f't-statistic = {t_statistic_rand}, p-value = {p_value_rand}')"
   ]
  },
  {
   "cell_type": "markdown",
   "id": "bcfee93f",
   "metadata": {},
   "source": [
    "## Summary of the results "
   ]
  },
  {
   "cell_type": "markdown",
   "id": "c23c5a5a",
   "metadata": {},
   "source": [
    "The results suggest that the average execution times of the first and second implementations are very close when the initial positions of the blocks are always the same. The standard deviations are also similar, indicating a comparable amount of variation in the execution times of both implementations. The p-value from the t-test is 0.9453, much larger than the standard threshold of 0.05 for statistical significance. Therefore, the null hypothesis that there is no difference between the two implementations in this scenario cannot be rejected. \n",
    "\n",
    "On the other hand, when the initial positions of the blocks are randomly placed, the second implementation shows a slightly lower average execution time compared to the first one. Their standard deviations remain comparable. However, the p-value from the t-test is 0.00303, which is less than 0.05, indicating a statistically significant difference between the two implementations in this scenario. Therefore, we reject the null hypothesis and conclude that there is a significant difference in performance between the two implementations when the obstacles are placed randomly."
   ]
  },
  {
   "cell_type": "markdown",
   "id": "d8ec2f97",
   "metadata": {},
   "source": [
    "## Conclusion"
   ]
  },
  {
   "cell_type": "markdown",
   "id": "832de0a0",
   "metadata": {},
   "source": [
    "In conclusion, the first and second implementations perform similarly when the initial positions of the blocks are fixed. However, when the blocks are randomly placed, the second implementation tends to have a lower average execution time. This suggests that the second implementation might be more robust to changes in the environment, making it potentially more useful in real-world situations where block placement can vary. However, the practical significance of these results would depend on the specific application and how much variation is expected in the initial block placement. It would also be helpful to consider other performance metrics than the time of execution."
   ]
  },
  {
   "cell_type": "code",
   "execution_count": null,
   "id": "53f74f72",
   "metadata": {},
   "outputs": [],
   "source": []
  }
 ],
 "metadata": {
  "kernelspec": {
   "display_name": "Python 3 (ipykernel)",
   "language": "python",
   "name": "python3"
  },
  "language_info": {
   "codemirror_mode": {
    "name": "ipython",
    "version": 3
   },
   "file_extension": ".py",
   "mimetype": "text/x-python",
   "name": "python",
   "nbconvert_exporter": "python",
   "pygments_lexer": "ipython3",
   "version": "3.10.6"
  }
 },
 "nbformat": 4,
 "nbformat_minor": 5
}
