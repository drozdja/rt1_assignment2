{
 "cells": [
  {
   "cell_type": "markdown",
   "id": "ec39a337",
   "metadata": {},
   "source": [
    "# Node A (Research Track 2 Assignment 2)\n",
    "#### Jan Drozd (s5646665)"
   ]
  },
  {
   "cell_type": "markdown",
   "id": "fd495377",
   "metadata": {},
   "source": [
    "Imports"
   ]
  },
  {
   "cell_type": "code",
   "execution_count": 1,
   "id": "42816e15",
   "metadata": {
    "execution": {
     "iopub.execute_input": "2023-06-02T06:33:29.090557Z",
     "iopub.status.busy": "2023-06-02T06:33:29.080918Z",
     "iopub.status.idle": "2023-06-02T06:33:34.291902Z",
     "shell.execute_reply": "2023-06-02T06:33:34.289795Z",
     "shell.execute_reply.started": "2023-06-02T06:33:29.090461Z"
    }
   },
   "outputs": [],
   "source": [
    "%matplotlib widget\n",
    "    \n",
    "import rospy\n",
    "import actionlib\n",
    "import threading\n",
    "import time\n",
    "\n",
    "from IPython.display import display\n",
    "import matplotlib.pyplot as plt\n",
    "from matplotlib.animation import FuncAnimation\n",
    "from matplotlib.figure import Figure\n",
    "\n",
    "import ipywidgets as w\n",
    "\n",
    "from nav_msgs.msg import Odometry\n",
    "from sensor_msgs.msg import LaserScan\n",
    "from geometry_msgs.msg import Point, Pose, Twist\n",
    "from assignment_2_2022.msg import *\n",
    "from assignment_2_2022.srv import Service1\n",
    "\n",
    "goal_reach_count = 0\n",
    "goal_cancel_count = 0 "
   ]
  },
  {
   "cell_type": "markdown",
   "id": "6c327b2b",
   "metadata": {},
   "source": [
    "NodeA class"
   ]
  },
  {
   "cell_type": "code",
   "execution_count": 2,
   "id": "96968acc",
   "metadata": {
    "execution": {
     "iopub.execute_input": "2023-06-02T06:33:34.323629Z",
     "iopub.status.busy": "2023-06-02T06:33:34.322851Z",
     "iopub.status.idle": "2023-06-02T06:33:34.415148Z",
     "shell.execute_reply": "2023-06-02T06:33:34.405764Z",
     "shell.execute_reply.started": "2023-06-02T06:33:34.323591Z"
    }
   },
   "outputs": [],
   "source": [
    "class NodeA:\n",
    "    def __init__(self):\n",
    "        self.robot_pos_x = 0.0\n",
    "        self.robot_pos_y = 0.0\n",
    "        self.goal_pos_x = 0.0\n",
    "        self.goal_pos_y = 0.0\n",
    "\n",
    "        self.goal_counter = 0\n",
    "\n",
    "        self.robot_traj_x = []\n",
    "        self.robot_traj_y = []\n",
    "\n",
    "        self.goal_hist_x = []\n",
    "        self.goal_hist_y = []\n",
    "\n",
    "        self.is_moving = False \n",
    "\n",
    "        self.fig, self.ax = plt.subplots()\n",
    "\n",
    "        self.pub = rospy.Publisher('/robot_data', Message1, queue_size = 1)\n",
    "        self.sub = rospy.Subscriber('/odom', Odometry, self.UpdateInfo)\n",
    "\n",
    "        rospy.wait_for_service('goal_info')      \n",
    "        self.srv = rospy.ServiceProxy('goal_info', Service1)\n",
    "\n",
    "        self.reached_goals_fig, self.reached_goals_ax = plt.subplots()\n",
    "\n",
    "    def MapInit(self):\n",
    "        self.ax.set_xlim(-10, 10)\n",
    "        self.ax.set_ylim(-10, 10)\n",
    "        self.ax.set_title('Positions of the robot and goals')\n",
    "        self.ax.set_xlabel('x [m]')\n",
    "        self.ax.set_ylabel('y [m]')\n",
    "        return self.map_rob, self.map_goal_cur, self.map_goal_his\n",
    "    \n",
    "    def MapUpdate(self, frame):\n",
    "        self.map_rob.set_data(self.robot_trajectory_x, self.robot_trajectory_y)\n",
    "        self.map_goal_cur.set_data(self.goal_pos_x, self.goal_pos_y)\n",
    "        self.map_goal_his.set_data(self.goal_history_x, self.goal_history_y)\n",
    "        return self.map_rob, self.map_goal_cur, self.map_goal_his\n",
    "        \n",
    "    def GoalObserv(self):\n",
    "        while not rospy.is_shutdown():\n",
    "            goals = self.srv(0)\n",
    "            global goal_reach_count, goal_cancel_count\n",
    "            goal_reach_count = goals.reached\n",
    "            goal_cancel_count = goals.cancelled\n",
    "            time.sleep(1)\n",
    "    \n",
    "    def GoalClient(self):\n",
    "        self.client = actionlib.SimpleActionClient('/reaching_goal', PlanningAction)\n",
    "        rospy.loginfo('Waiting for server.')\n",
    "        self.client.wait_for_server()\n",
    "        self.goal = PlanningGoal()\n",
    "        rospy.spin()\n",
    "    \n",
    "    def UpdateInfo(self, msg):\n",
    "        self.robot_pos_x = msg.pose.pose.position.x\n",
    "        self.robot_pos_y = msg.pose.pose.position.y\n",
    "        self.robot_traj_x.append(self.robot_pos_x)\n",
    "        self.robot_traj_y.append(self.robot_pos_y)\n",
    "        info = Message1()\n",
    "        info.x = msg.pose.pose.position.x\n",
    "        info.y = msg.pose.pose.position.y\n",
    "        info.vel_x = msg.twist.twist.linear.x\n",
    "        info.vel_y = msg.twist.twist.linear.y\n",
    "        self.pub.publish(info)\n",
    "            \n",
    "    def Interface(self):\n",
    "        rospy.loginfo('User interface.')\n",
    "        \n",
    "        self.new_goal_x = w.FloatSlider(\n",
    "            value=0.0,\n",
    "            min=-10,\n",
    "            max=10.0,\n",
    "            step=0.1,\n",
    "            description='Goal x',\n",
    "            continuous_update=False\n",
    "        )\n",
    "\n",
    "        self.new_goal_y = w.FloatSlider(\n",
    "            value=0.0,\n",
    "            min=-10,\n",
    "            max=10.0,\n",
    "            step=0.1,\n",
    "            description='Goal y',\n",
    "            continuous_update=False\n",
    "        )\n",
    "\n",
    "        self.new_goal_button = w.Button(description='Submit new goal')\n",
    "        self.new_goal_button.on_click(self.ClickHandler)\n",
    "        \n",
    "        display(w.HBox([self.new_goal_x, self.new_goal_y, self.new_goal_button]))\n",
    "        \n",
    "    def ClickHandler(self, b):\n",
    "        self.goal.x = self.new_goal_x.value\n",
    "        self.goal.y = self.new_goal_y.value\n",
    "        self.client.send_goal(self.goal)\n",
    "        self.client.wait_for_result()\n",
    "\n",
    "    def GoalsInit(self):\n",
    "        self.reached_goals_ax.set_title('Reached vs Not-Reached Goals')\n",
    "        self.reached_goals_ax.set_xlabel('Time [s]')\n",
    "        self.reached_goals_ax.set_ylabel('Number of Goals')\n",
    "        self.reached_goals_line, = self.reached_goals_ax.plot([], [], label='Reached Goals')\n",
    "        self.not_reached_goals_line, = self.reached_goals_ax.plot([], [], label='Not Reached Goals')\n",
    "        return self.reached_goals_line, self.not_reached_goals_line\n",
    "\n",
    "    def GoalsUpdate(self, frame):\n",
    "        self.reached_goals_line.set_ydata(goal_reach_count)\n",
    "        self.not_reached_goals_line.set_ydata(goal_cancel_count)\n",
    "        return self.reached_goals_line, self.not_reached_goals_line\n"
   ]
  },
  {
   "cell_type": "markdown",
   "id": "016f6542",
   "metadata": {},
   "source": [
    "Node init"
   ]
  },
  {
   "cell_type": "code",
   "execution_count": 3,
   "id": "f19eef5e",
   "metadata": {
    "execution": {
     "iopub.execute_input": "2023-06-02T06:33:34.436599Z",
     "iopub.status.busy": "2023-06-02T06:33:34.435152Z",
     "iopub.status.idle": "2023-06-02T06:33:36.664050Z",
     "shell.execute_reply": "2023-06-02T06:33:36.659506Z",
     "shell.execute_reply.started": "2023-06-02T06:33:34.436557Z"
    },
    "scrolled": true
   },
   "outputs": [
    {
     "name": "stdout",
     "output_type": "stream",
     "text": [
      "[INFO] [1685687615.349526, 0.000000]: This is the user interface.\n"
     ]
    },
    {
     "data": {
      "application/vnd.jupyter.widget-view+json": {
       "model_id": "153210a15d784320831d2cc3cfcd0aa1",
       "version_major": 2,
       "version_minor": 0
      },
      "text/plain": [
       "HBox(children=(FloatSlider(value=0.0, continuous_update=False, description='Goal x', max=10.0, min=-10.0), Flo…"
      ]
     },
     "metadata": {},
     "output_type": "display_data"
    },
    {
     "name": "stdout",
     "output_type": "stream",
     "text": [
      "[INFO] [1685687615.766503, 0.000000]: Waiting for server.\n"
     ]
    },
    {
     "data": {
      "application/vnd.jupyter.widget-view+json": {
       "model_id": "487ca116e7934f88b144905525d40bc4",
       "version_major": 2,
       "version_minor": 0
      },
      "image/png": "[encoded data removed]",
      "text/html": [
       "\n",
       "            <div style=\"display: inline-block;\">\n",
       "                <div class=\"jupyter-widgets widget-label\" style=\"text-align: center;\">\n",
       "                    Figure\n",
       "                </div>\n",
       "                <img src='data:image/png;base64,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' width=640.0/>\n",
       "            </div>\n",
       "        "
      ],
      "text/plain": [
       "Canvas(toolbar=Toolbar(toolitems=[('Home', 'Reset original view', 'home', 'home'), ('Back', 'Back to previous …"
      ]
     },
     "metadata": {},
     "output_type": "display_data"
    },
    {
     "data": {
      "application/vnd.jupyter.widget-view+json": {
       "model_id": "91e411e6f9a1470589e6973d43417b58",
       "version_major": 2,
       "version_minor": 0
      },
      "image/png": "[encoded data removed]",
      "text/html": [
       "\n",
       "            <div style=\"display: inline-block;\">\n",
       "                <div class=\"jupyter-widgets widget-label\" style=\"text-align: center;\">\n",
       "                    Figure\n",
       "                </div>\n",
       "                <img src='data:image/png;base64,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' width=640.0/>\n",
       "            </div>\n",
       "        "
      ],
      "text/plain": [
       "Canvas(toolbar=Toolbar(toolitems=[('Home', 'Reset original view', 'home', 'home'), ('Back', 'Back to previous …"
      ]
     },
     "metadata": {},
     "output_type": "display_data"
    }
   ],
   "source": [
    "rospy.init_node('node_a')\n",
    "node_robot = NodeA()\n",
    "node_robot.Interface()\n",
    "\n",
    "# Start threads\n",
    "threading.Thread(target=node_robot.GoalClient).start()\n",
    "threading.Thread(target=node_robot.GoalObserv).start()\n",
    "\n",
    "# Start map animation\n",
    "anim = FuncAnimation(node_robot.fig, node_robot.MapUpdate, init_func=node_robot.MapInit, cache_frame_data=False)\n",
    "\n",
    "# Show plot\n",
    "plt.legend()\n",
    "plt.show(block=False)\n"
   ]
  },
  {
   "cell_type": "markdown",
   "id": "1c01a186-8993-4ecf-9bb8-66a43f1c3800",
   "metadata": {
    "execution": {
     "iopub.execute_input": "2023-06-02T06:33:36.692400Z",
     "iopub.status.busy": "2023-06-02T06:33:36.682784Z",
     "iopub.status.idle": "2023-06-02T06:33:36.763475Z",
     "shell.execute_reply": "2023-06-02T06:33:36.754353Z",
     "shell.execute_reply.started": "2023-06-02T06:33:36.692345Z"
    }
   },
   "source": [
    "Nearest obstacle"
   ]
  },
  {
   "cell_type": "code",
   "execution_count": 5,
   "id": "2144ef0c",
   "metadata": {
    "execution": {
     "iopub.execute_input": "2023-06-02T06:34:34.445873Z",
     "iopub.status.busy": "2023-06-02T06:34:34.445451Z",
     "iopub.status.idle": "2023-06-02T06:34:34.492077Z",
     "shell.execute_reply": "2023-06-02T06:34:34.490771Z",
     "shell.execute_reply.started": "2023-06-02T06:34:34.445845Z"
    }
   },
   "outputs": [
    {
     "data": {
      "application/vnd.jupyter.widget-view+json": {
       "model_id": "5d04cea28b74455a95e54aa4d143ba0b",
       "version_major": 2,
       "version_minor": 0
      },
      "text/plain": [
       "FloatText(value=0.0, description='Nearest obstacle:')"
      ]
     },
     "metadata": {},
     "output_type": "display_data"
    }
   ],
   "source": [
    "nearest_obstacle = w.FloatText(value=0.0, description='Nearest obstacle:', readout_format='.3f')\n",
    "\n",
    "def LaserCallback(msg):\n",
    "    nearest_obstacle.value = min(msg.ranges)\n",
    "\n",
    "rospy.Subscriber('/scan', LaserScan, LaserCallback)\n",
    "display(nearest_obstacle)"
   ]
  },
  {
   "cell_type": "markdown",
   "id": "54b6cd7b-d2be-4dd0-bf0d-4dba401419d6",
   "metadata": {},
   "source": [
    "Plot of reached goals"
   ]
  },
  {
   "cell_type": "code",
   "execution_count": null,
   "id": "aa181177",
   "metadata": {
    "execution": {
     "iopub.status.busy": "2023-06-02T06:33:36.812390Z",
     "iopub.status.idle": "2023-06-02T06:33:36.815586Z",
     "shell.execute_reply": "2023-06-02T06:33:36.815340Z",
     "shell.execute_reply.started": "2023-06-02T06:33:36.815309Z"
    }
   },
   "outputs": [],
   "source": [
    "goals_anim = FuncAnimation(node_robot.reached_goals_fig, node_robot.GoalsUpdate, init_func=node_robot.GoalsInit, cache_frame_data=False)"
   ]
  }
 ],
 "metadata": {
  "kernelspec": {
   "display_name": "plz_work",
   "language": "python",
   "name": "plz_work"
  },
  "language_info": {
   "codemirror_mode": {
    "name": "ipython",
    "version": 3
   },
   "file_extension": ".py",
   "mimetype": "text/x-python",
   "name": "python",
   "nbconvert_exporter": "python",
   "pygments_lexer": "ipython3",
   "version": "3.9.16"
  }
 },
 "nbformat": 4,
 "nbformat_minor": 5
}
